{
 "cells": [
  {
   "cell_type": "markdown",
   "metadata": {},
   "source": [
    "# Chapter 8 Demo\n"
   ]
  },
  {
   "cell_type": "code",
   "execution_count": 1,
   "metadata": {},
   "outputs": [],
   "source": [
    "from sklearn import datasets\n",
    "import numpy as np"
   ]
  },
  {
   "cell_type": "code",
   "execution_count": 2,
   "metadata": {},
   "outputs": [
    {
     "data": {
      "text/plain": [
       "(1797, 64)"
      ]
     },
     "execution_count": 2,
     "metadata": {},
     "output_type": "execute_result"
    }
   ],
   "source": [
    "digits=datasets.load_digits()\n",
    "digits.data.shape"
   ]
  },
  {
   "cell_type": "code",
   "execution_count": 6,
   "metadata": {},
   "outputs": [],
   "source": [
    "X, y= digits.data, digits.target"
   ]
  },
  {
   "cell_type": "code",
   "execution_count": 7,
   "metadata": {},
   "outputs": [
    {
     "data": {
      "text/plain": [
       "array([[ 0.,  0.,  5., ...,  0.,  0.,  0.],\n",
       "       [ 0.,  0.,  0., ..., 10.,  0.,  0.],\n",
       "       [ 0.,  0.,  0., ..., 16.,  9.,  0.],\n",
       "       ...,\n",
       "       [ 0.,  0.,  1., ...,  6.,  0.,  0.],\n",
       "       [ 0.,  0.,  2., ..., 12.,  0.,  0.],\n",
       "       [ 0.,  0., 10., ..., 12.,  1.,  0.]])"
      ]
     },
     "execution_count": 7,
     "metadata": {},
     "output_type": "execute_result"
    }
   ],
   "source": []
  },
  {
   "cell_type": "code",
   "execution_count": 21,
   "metadata": {},
   "outputs": [],
   "source": [
    "from sklearn.model_selection import train_test_split\n",
    "\n",
    "X_train, X_test, y_train, y_test = train_test_split(X,y, test_size=0.3, random_state=123)"
   ]
  },
  {
   "cell_type": "code",
   "execution_count": 22,
   "metadata": {},
   "outputs": [
    {
     "data": {
      "text/plain": [
       "SVC(C=100, gamma=0.001)"
      ]
     },
     "execution_count": 22,
     "metadata": {},
     "output_type": "execute_result"
    }
   ],
   "source": [
    "from sklearn import svm\n",
    "\n",
    "model=svm.SVC(gamma=0.001, C=100) # SVC means support vector classification\n",
    "model.fit(X_train, y_train) # C means margin (lòng đường/ lề đường)"
   ]
  },
  {
   "cell_type": "code",
   "execution_count": 23,
   "metadata": {},
   "outputs": [],
   "source": [
    "y_pred=model.predict(X_test)"
   ]
  },
  {
   "cell_type": "code",
   "execution_count": 24,
   "metadata": {},
   "outputs": [],
   "source": [
    "# Check Accuracy \n",
    "\n",
    "from sklearn.metrics import accuracy_score\n",
    "\n",
    "testAccuracy=accuracy_score(y_test,y_pred)"
   ]
  },
  {
   "cell_type": "code",
   "execution_count": 25,
   "metadata": {},
   "outputs": [
    {
     "name": "stdout",
     "output_type": "stream",
     "text": [
      "Test Accuracy is 0.9833333333333333\n"
     ]
    }
   ],
   "source": [
    "print(f\"Test Accuracy is {testAccuracy}\")"
   ]
  },
  {
   "cell_type": "code",
   "execution_count": 26,
   "metadata": {},
   "outputs": [],
   "source": [
    "from sklearn.metrics import classification_report "
   ]
  },
  {
   "cell_type": "code",
   "execution_count": 27,
   "metadata": {},
   "outputs": [
    {
     "name": "stdout",
     "output_type": "stream",
     "text": [
      "              precision    recall  f1-score   support\n",
      "\n",
      "           0       1.00      1.00      1.00        59\n",
      "           1       0.95      1.00      0.97        56\n",
      "           2       1.00      1.00      1.00        53\n",
      "           3       0.98      1.00      0.99        46\n",
      "           4       1.00      1.00      1.00        61\n",
      "           5       1.00      0.95      0.97        57\n",
      "           6       1.00      0.98      0.99        57\n",
      "           7       0.98      1.00      0.99        50\n",
      "           8       0.98      0.96      0.97        48\n",
      "           9       0.94      0.94      0.94        53\n",
      "\n",
      "    accuracy                           0.98       540\n",
      "   macro avg       0.98      0.98      0.98       540\n",
      "weighted avg       0.98      0.98      0.98       540\n",
      "\n"
     ]
    }
   ],
   "source": [
    "print(classification_report(y_test,y_pred))"
   ]
  },
  {
   "cell_type": "code",
   "execution_count": 28,
   "metadata": {},
   "outputs": [],
   "source": [
    "import matplotlib.pyplot as plt"
   ]
  },
  {
   "cell_type": "code",
   "execution_count": 34,
   "metadata": {},
   "outputs": [
    {
     "data": {
      "image/png": "[encoded data removed]",
      "text/plain": [
       "<Figure size 432x288 with 1 Axes>"
      ]
     },
     "metadata": {
      "needs_background": "light"
     },
     "output_type": "display_data"
    }
   ],
   "source": [
    "plt.imshow(digits.images[100], cmap=plt.cm.gray_r, interpolation=\"nearest\")\n",
    "plt.show()"
   ]
  },
  {
   "cell_type": "code",
   "execution_count": 35,
   "metadata": {},
   "outputs": [
    {
     "data": {
      "text/plain": [
       "array([ 0.,  0.,  0.,  2., 13.,  0.,  0.,  0.,  0.,  0.,  0.,  8., 15.,\n",
       "        0.,  0.,  0.,  0.,  0.,  5., 16.,  5.,  2.,  0.,  0.,  0.,  0.,\n",
       "       15., 12.,  1., 16.,  4.,  0.,  0.,  4., 16.,  2.,  9., 16.,  8.,\n",
       "        0.,  0.,  0., 10., 14., 16., 16.,  4.,  0.,  0.,  0.,  0.,  0.,\n",
       "       13.,  8.,  0.,  0.,  0.,  0.,  0.,  0., 13.,  6.,  0.,  0.])"
      ]
     },
     "execution_count": 35,
     "metadata": {},
     "output_type": "execute_result"
    }
   ],
   "source": [
    "digits.data[100]"
   ]
  },
  {
   "cell_type": "code",
   "execution_count": 41,
   "metadata": {},
   "outputs": [
    {
     "data": {
      "text/plain": [
       "array([4])"
      ]
     },
     "execution_count": 41,
     "metadata": {},
     "output_type": "execute_result"
    }
   ],
   "source": [
    "# Predict on a new data point\n",
    "newpoint=digits.data[100]\n",
    "model.predict(np.array([newpoint]))"
   ]
  },
  {
   "cell_type": "markdown",
   "metadata": {},
   "source": [
    "# Support Vector Machine Regression"
   ]
  },
  {
   "cell_type": "code",
   "execution_count": 45,
   "metadata": {},
   "outputs": [],
   "source": [
    "import numpy as np\n",
    "from sklearn.svm import SVR\n",
    "import matplotlib.pyplot as plt\n",
    "X = np.array([[0.2313566 ], [0.35230223], [0.45908406], [0.48294093],\n",
    "       [0.58074839], [0.62907617], [0.65463391], [0.66907165],\n",
    "       [0.72477906], [0.84710095], [0.86498594], [0.90941156],\n",
    "       [1.13304331], [1.25504584], [1.44700167], [1.74536094], \n",
    "       [1.79142627], [1.83170011], [1.88076225], [2.0105496 ],\n",
    "       [2.26131001], [2.29476084], [2.41590987], [2.47337582],\n",
    "       [2.6651377 ], [2.68692155], [2.99062486], [3.43585631],\n",
    "       [3.50038771], [4.11040781], [4.22895473], [4.31548218],\n",
    "       [4.39430932], [4.44893063], [4.51696106], [4.65979544],\n",
    "       [4.73270839], [4.89174978], [4.89780429], [4.93440963]])\n"
   ]
  },
  {
   "cell_type": "code",
   "execution_count": 46,
   "metadata": {},
   "outputs": [],
   "source": [
    "y = np.array([ 0.96101284,  0.2415537 ,  0.25846608,  0.36762907,  0.48615592,\n",
    "       -0.6262452 ,  0.64025271,  0.65477594,  0.8324045 ,  0.92479558,\n",
    "        2.02978015,  0.99651699,  0.99683044,  0.99995752,  0.97941008,\n",
    "        0.00497547,  0.96920264,  0.92358315,  0.91018836,  0.90276912,\n",
    "        2.14437202,  0.59680595,  0.51094802,  0.38943511,  0.27458801,\n",
    "        0.86368324, -0.26469069, -0.28272056, -0.36471195, -0.41187662,\n",
    "       -1.32386553, -0.75770017, -0.83174207, -0.90513234, -0.95911322,\n",
    "       -1.55498376, -0.99902373, -0.9992663 , -0.99879695, -0.96345159])\n"
   ]
  },
  {
   "cell_type": "code",
   "execution_count": 52,
   "metadata": {},
   "outputs": [
    {
     "data": {
      "text/plain": [
       "SVR(C=100, kernel='poly')"
      ]
     },
     "execution_count": 52,
     "metadata": {},
     "output_type": "execute_result"
    }
   ],
   "source": [
    "# Fit SVM regression\n",
    "\n",
    "SVR_rbf=SVR(kernel=\"rbf\", C=100, gamma=0.1)\n",
    "SVR_rbf.fit(X,y)\n",
    "\n",
    "SVR_linear=SVR(kernel =\"linear\", C=100)\n",
    "\n",
    "SVR_linear.fit(X,y)\n",
    "\n",
    "SVR_poly=SVR(kernel=\"poly\", C=100, degree=3)\n",
    "\n",
    "SVR_poly.fit(X,y)"
   ]
  },
  {
   "cell_type": "code",
   "execution_count": 53,
   "metadata": {},
   "outputs": [],
   "source": [
    "# Prediciton \n",
    "\n",
    "y_rbf=SVR_rbf.predict(X)\n",
    "\n",
    "y_linear=SVR_linear.predict(X)\n",
    "\n",
    "y_poly=SVR_poly.predict(X)\n"
   ]
  },
  {
   "cell_type": "code",
   "execution_count": 62,
   "metadata": {},
   "outputs": [
    {
     "data": {
      "text/plain": [
       "Text(0.5, 1.0, 'Poly')"
      ]
     },
     "execution_count": 62,
     "metadata": {},
     "output_type": "execute_result"
    },
    {
     "data": {
      "image/png": "[encoded data removed]",
      "text/plain": [
       "<Figure size 432x288 with 3 Axes>"
      ]
     },
     "metadata": {
      "needs_background": "light"
     },
     "output_type": "display_data"
    }
   ],
   "source": [
    "# Visualizing the result\n",
    "\n",
    "plt.subplot(1,3,1)\n",
    "\n",
    "plt.plot(X, y_rbf, color=\"r\")\n",
    "plt.scatter(X,y)\n",
    "plt.title(\"RBF\")\n",
    "plt.subplot(1,3,2)\n",
    "\n",
    "plt.plot(X, y_linear, color=\"g\")\n",
    "plt.scatter(X,y)\n",
    "plt.title(\"Linear\")\n",
    "\n",
    "plt.subplot(1,3,3)\n",
    "\n",
    "plt.plot(X, y_poly, color=\"b\")\n",
    "plt.scatter(X,y)\n",
    "plt.title(\"Poly\")"
   ]
  },
  {
   "cell_type": "code",
   "execution_count": 63,
   "metadata": {},
   "outputs": [
    {
     "data": {
      "text/plain": [
       "'SVC'"
      ]
     },
     "execution_count": 63,
     "metadata": {},
     "output_type": "execute_result"
    }
   ],
   "source": [
    "model.__class__.__name__"
   ]
  }
 ],
 "metadata": {
  "kernelspec": {
   "display_name": "Python 3",
   "language": "python",
   "name": "python3"
  },
  "language_info": {
   "codemirror_mode": {
    "name": "ipython",
    "version": 3
   },
   "file_extension": ".py",
   "mimetype": "text/x-python",
   "name": "python",
   "nbconvert_exporter": "python",
   "pygments_lexer": "ipython3",
   "version": "3.8.5"
  }
 },
 "nbformat": 4,
 "nbformat_minor": 4
}
